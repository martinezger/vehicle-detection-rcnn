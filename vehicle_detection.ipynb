{
  "nbformat": 4,
  "nbformat_minor": 0,
  "metadata": {
    "colab": {
      "name": "vehicle_detection.ipynb",
      "provenance": [],
      "collapsed_sections": [],
      "authorship_tag": "ABX9TyMq0qnTkCguewnRxwSJelfE",
      "include_colab_link": true
    },
    "kernelspec": {
      "name": "python3",
      "display_name": "Python 3"
    },
    "language_info": {
      "name": "python"
    },
    "accelerator": "GPU"
  },
  "cells": [
    {
      "cell_type": "markdown",
      "metadata": {
        "id": "view-in-github",
        "colab_type": "text"
      },
      "source": [
        "<a href=\"https://colab.research.google.com/github/martinezger/rcnn-mvc/blob/main/vehicle_detection.ipynb\" target=\"_parent\"><img src=\"https://colab.research.google.com/assets/colab-badge.svg\" alt=\"Open In Colab\"/></a>"
      ]
    },
    {
      "cell_type": "markdown",
      "metadata": {
        "id": "vTp4V9CYTv-M"
      },
      "source": [
        "# Dependencies and imports\n",
        "This notebook use tensorflow-gpu 1.15.5 this will trigger a pip error at the end of the cell execution, please ignore the error because those dependencies won't affect us."
      ]
    },
    {
      "cell_type": "code",
      "metadata": {
        "id": "W68Uhb68JOKs"
      },
      "source": [
        "!pip uninstall -y -q keras-nightly\n",
        "!pip install -q keras==2.0.8 tensorflow-gpu==1.15.5 h5py==2.10.0 mrcnn-colab==2.1"
      ],
      "execution_count": null,
      "outputs": []
    },
    {
      "cell_type": "code",
      "metadata": {
        "colab": {
          "base_uri": "https://localhost:8080/"
        },
        "id": "Job8oKO6CwlU",
        "outputId": "efeace9d-2653-41de-b77e-e048523199cf"
      },
      "source": [
        "import os\n",
        "import sys\n",
        "import json\n",
        "import datetime\n",
        "import numpy as np\n",
        "import skimage.draw\n",
        "import urllib\n",
        "from mrcnn.config import Config\n",
        "from mrcnn import model as modellib, utils"
      ],
      "execution_count": 4,
      "outputs": [
        {
          "output_type": "stream",
          "text": [
            "Using TensorFlow backend.\n"
          ],
          "name": "stderr"
        }
      ]
    },
    {
      "cell_type": "markdown",
      "metadata": {
        "id": "oqXvT445VGCb"
      },
      "source": [
        "# Download Files and create Root Folder\n",
        "\n",
        "This setup should work out of the box, in case you want to move to a custom path just change the ROOT_DIR."
      ]
    },
    {
      "cell_type": "code",
      "metadata": {
        "id": "P69m8t9eDPbk"
      },
      "source": [
        "ROOT_DIR = os.path.abspath(\"test\")\n",
        "DEFAULT_LOGS_DIR = os.path.join(ROOT_DIR, \"logs\")\n",
        "\n",
        "DATA_SET_PATH = os.path.join(ROOT_DIR, \"rcnn-mvc-main/dataset\")\n",
        "COCO_WEIGHTS_PATH = os.path.join(ROOT_DIR, \"mask_rcnn_coco.h5\")\n",
        "\n",
        "COCO_RCNN_URL = \"https://github.com/matterport/Mask_RCNN/releases/download/v2.0/mask_rcnn_coco.h5\"\n",
        "DATA_SET_URL = \"https://github.com/martinezger/rcnn-mvc/tree/main/dataset\"\n",
        "MRCNN_REPO_URL = \"https://github.com/martinezger/rcnn-mvc/archive/refs/heads/main.zip\"\n",
        "\n",
        "if not os.path.exists(ROOT_DIR):\n",
        "  print(\"create project root folder\")\n",
        "  os.mkdir(ROOT_DIR)\n",
        "\n",
        "!wget \"https://github.com/matterport/Mask_RCNN/releases/download/v2.0/mask_rcnn_coco.h5\" -P {ROOT_DIR}\n",
        "!wget \"https://github.com/martinezger/rcnn-mvc/archive/refs/heads/main.zip\" -P {ROOT_DIR}\n",
        "!unzip -qq {os.path.join(ROOT_DIR, \"main.zip\")} \"rcnn-mvc-main/dataset/*\" -d {ROOT_DIR}\n",
        "!rm {os.path.join(ROOT_DIR, \"main.zip\")}"
      ],
      "execution_count": null,
      "outputs": []
    },
    {
      "cell_type": "markdown",
      "metadata": {
        "id": "uce3WPR9VfWS"
      },
      "source": [
        "# Model Setup\n"
      ]
    },
    {
      "cell_type": "code",
      "metadata": {
        "id": "QBmXJl4Gki4P"
      },
      "source": [
        "\n",
        "############################################################\n",
        "#  Configurations\n",
        "############################################################\n",
        "\n",
        "class CustomCarConfig(Config):\n",
        "    \"\"\"Configuration for training on the toy  dataset.\n",
        "    Derives from the base Config class and overrides some values.\n",
        "    \"\"\"\n",
        "    # Give the configuration a recognizable name\n",
        "    NAME = \"customCar\"\n",
        "\n",
        "    # We use a GPU with 12GB memory, which can fit two images.\n",
        "    # Adjust down if you use a smaller GPU.\n",
        "    IMAGES_PER_GPU = 2\n",
        "\n",
        "    # Number of classes (including background)\n",
        "    NUM_CLASSES = 1 + 3  # Background + cars + bus + truck\n",
        "\n",
        "    # Number of training steps per epoch\n",
        "    STEPS_PER_EPOCH = 14\n",
        "\n",
        "    # Skip detections with < 90% confidence\n",
        "    DETECTION_MIN_CONFIDENCE = 0.9\n",
        "\n",
        "\n",
        "############################################################\n",
        "#  Dataset\n",
        "############################################################\n",
        "\n",
        "class CustomCarDataset(utils.Dataset):\n",
        "\n",
        "    def load_car(self, dataset_dir, subset):\n",
        "        \"\"\"Load a subset of the Balloon dataset.\n",
        "        dataset_dir: Root directory of the dataset.\n",
        "        subset: Subset to load: train or val\n",
        "        \"\"\"\n",
        "        # Add classes. We have only one class to add.\n",
        "        self.add_class(\"customCar\", 1, \"car\")\n",
        "        self.add_class(\"customCar\", 2, \"truck\")\n",
        "        self.add_class(\"customCar\", 3, \"bus\")\n",
        "\n",
        "        # Train or validation dataset?\n",
        "        assert subset in [\"train\", \"val\"]\n",
        "        dataset_dir = os.path.join(dataset_dir, subset)\n",
        "\n",
        "        annotations = json.load(open(os.path.join(dataset_dir, \"via_region_data.json\")))\n",
        "        annotations = list(annotations.values())  # don't need the dict keys\n",
        "\n",
        "        # The VIA tool saves images in the JSON even if they don't have any\n",
        "        # annotations. Skip unannotated images.\n",
        "        annotations = [a for a in annotations if a['regions']]\n",
        "\n",
        "        for a in annotations:\n",
        "            if type(a['regions']) is dict:\n",
        "                polygons = [r['shape_attributes'] for r in a['regions'].values()]\n",
        "            else:\n",
        "                polygons = [r['shape_attributes'] for r in a['regions']]\n",
        "\n",
        "            image_path = os.path.join(dataset_dir, a['filename'])\n",
        "            image = skimage.io.imread(image_path)\n",
        "            height, width = image.shape[:2]\n",
        "            name = [r[\"region_attributes\"][\"name\"] for r in a[\"regions\"]]\n",
        "            name_dict = {\"car\": 1, \"truck\": 2, \"bus\": 3}\n",
        "            name_id = [name_dict[a] for a in name]\n",
        "\n",
        "            self.add_image(\n",
        "                \"customCar\",\n",
        "                image_id=a['filename'],  # use file name as a unique image id\n",
        "                path=image_path,\n",
        "                class_id=name_id,\n",
        "                width=width,\n",
        "                height=height,\n",
        "                polygons=polygons)\n",
        "\n",
        "    def load_mask(self, image_id):\n",
        "        \"\"\"Generate instance masks for an image.\n",
        "       Returns:\n",
        "        masks: A bool array of shape [height, width, instance count] with\n",
        "            one mask per instance.\n",
        "        class_ids: a 1D array of class IDs of the instance masks.\n",
        "        \"\"\"\n",
        "        # If not a balloon dataset image, delegate to parent class.\n",
        "        image_info = self.image_info[image_id]\n",
        "        if image_info[\"source\"] != \"customCar\":\n",
        "            return super(self.__class__, self).load_mask(image_id)\n",
        "\n",
        "        name_id = image_info['class_id']\n",
        "\n",
        "        # Convert polygons to a bitmap mask of shape\n",
        "        # [height, width, instance_count]\n",
        "        info = self.image_info[image_id]\n",
        "        mask = np.zeros([info[\"height\"], info[\"width\"], len(info[\"polygons\"])],\n",
        "                        dtype=np.uint8)\n",
        "\n",
        "        class_ids = np.array(name_id, dtype=np.int32)\n",
        "\n",
        "        for i, p in enumerate(info[\"polygons\"]):\n",
        "            # Get indexes of pixels inside the polygon and set them to 1\n",
        "            rr, cc = skimage.draw.polygon(p['all_points_y'], p['all_points_x'])\n",
        "            mask[rr, cc, i] = 1\n",
        "\n",
        "        # Return mask, and array of class IDs of each instance. Since we have\n",
        "        # one class ID only, we return an array of 1s\n",
        "        return mask.astype(np.bool), class_ids\n",
        "\n",
        "    def image_reference(self, image_id):\n",
        "        \"\"\"Return the path of the image.\"\"\"\n",
        "        info = self.image_info[image_id]\n",
        "        if info[\"source\"] == \"customCar\":\n",
        "            return info[\"path\"]\n",
        "        else:\n",
        "            super(self.__class__, self).image_reference(image_id)\n",
        "\n",
        "\n",
        "def train(model, config):\n",
        "    \"\"\"Train the model.\"\"\"\n",
        "    # Training dataset.\n",
        "    dataset_train = CustomCarDataset()\n",
        "    dataset_train.load_car(DATA_SET_PATH, \"train\")\n",
        "    dataset_train.prepare()\n",
        "\n",
        "    # Validation dataset\n",
        "    dataset_val = CustomCarDataset()\n",
        "    dataset_val.load_car(DATA_SET_PATH, \"val\")\n",
        "    dataset_val.prepare()\n",
        "\n",
        "    # *** This training schedule is an example. Update to your needs ***\n",
        "    # Since we're using a very small dataset, and starting from\n",
        "    # COCO trained weights, we don't need to train too long. Also,\n",
        "    # no need to train all layers, just the heads should do it.\n",
        "    print(\"Training network heads\")\n",
        "    model.train(dataset_train, dataset_val,\n",
        "                learning_rate=config.LEARNING_RATE,\n",
        "                epochs=30,\n",
        "                layers='heads')\n",
        "\n",
        "\n",
        "def color_splash(image, mask):\n",
        "    \"\"\"Apply color splash effect.\n",
        "    image: RGB image [height, width, 3]\n",
        "    mask: instance segmentation mask [height, width, instance count]\n",
        "    Returns result image.\n",
        "    \"\"\"\n",
        "    # Make a grayscale copy of the image. The grayscale copy still\n",
        "    # has 3 RGB channels, though.\n",
        "    gray = skimage.color.gray2rgb(skimage.color.rgb2gray(image)) * 255\n",
        "    # Copy color pixels from the original color image where mask is set\n",
        "    if mask.shape[-1] > 0:\n",
        "        # We're treating all instances as one, so collapse the mask into one layer\n",
        "        mask = (np.sum(mask, -1, keepdims=True) >= 1)\n",
        "        splash = np.where(mask, image, gray).astype(np.uint8)\n",
        "    else:\n",
        "        splash = gray.astype(np.uint8)\n",
        "    return splash\n",
        "\n",
        "\n",
        "def run_train(command=\"train\", dataset=DATA_SET_PATH, weights=\"coco\", logs=DEFAULT_LOGS_DIR):\n",
        "    # Validate arguments\n",
        "    if command == \"train\":\n",
        "        assert dataset, \"Argument --dataset is required for training\"\n",
        "\n",
        "    print(\"Weights: \", weights)\n",
        "    print(\"Dataset: \", dataset)\n",
        "    print(\"Logs: \", logs)\n",
        "\n",
        "    # Configurations\n",
        "    if command == \"train\":\n",
        "        config = CustomCarConfig()\n",
        "    else:\n",
        "        class InferenceConfig(CustomCarConfig):\n",
        "            # Set batch size to 1 since we'll be running inference on\n",
        "            # one image at a time. Batch size = GPU_COUNT * IMAGES_PER_GPU\n",
        "            GPU_COUNT = 1\n",
        "            IMAGES_PER_GPU = 1\n",
        "\n",
        "        config = InferenceConfig()\n",
        "    config.display()\n",
        "\n",
        "    # Create model\n",
        "    if command == \"train\":\n",
        "        model = modellib.MaskRCNN(mode=\"training\", config=config,\n",
        "                                  model_dir=logs)\n",
        "    else:\n",
        "        model = modellib.MaskRCNN(mode=\"inference\", config=config,\n",
        "                                  model_dir=logs)\n",
        "\n",
        "    # Select weights file to load\n",
        "    if weights.lower() == \"coco\":\n",
        "        weights_path = COCO_WEIGHTS_PATH\n",
        "        # Download weights file\n",
        "        if not os.path.exists(weights_path):\n",
        "            utils.download_trained_weights(weights_path)\n",
        "    elif weights.lower() == \"last\":\n",
        "        # Find last trained weights\n",
        "        weights_path = model.find_last()\n",
        "    elif weights.lower() == \"imagenet\":\n",
        "        # Start from ImageNet trained weights\n",
        "        weights_path = model.get_imagenet_weights()\n",
        "    else:\n",
        "        weights_path = weights\n",
        "\n",
        "    # Load weights\n",
        "    print(\"Loading weights \", weights_path)\n",
        "    if weights.lower() == \"coco\":\n",
        "        # Exclude the last layers because they require a matching\n",
        "        # number of classes\n",
        "        model.load_weights(weights_path, by_name=True, exclude=[\n",
        "            \"mrcnn_class_logits\", \"mrcnn_bbox_fc\",\n",
        "            \"mrcnn_bbox\", \"mrcnn_mask\"])\n",
        "    else:\n",
        "        model.load_weights(weights_path, by_name=True)\n",
        "\n",
        "    # Train or evaluate\n",
        "    if command == \"train\":\n",
        "        train(model, config)\n",
        "\n",
        "    else:\n",
        "        print(\"'{}' is not recognized. \"\n",
        "              \"Use 'train' or 'splash'\".format(command))\n"
      ],
      "execution_count": 7,
      "outputs": []
    },
    {
      "cell_type": "markdown",
      "metadata": {
        "id": "FCzKt8ALWNtW"
      },
      "source": [
        "# Run Training\n",
        "After hit start the training will start. Base on some testing I made could take between 30 to 60 minutes to finish a traning."
      ]
    },
    {
      "cell_type": "code",
      "metadata": {
        "id": "_jgT9zbFD-Fp"
      },
      "source": [
        "import warnings\n",
        "warnings.simplefilter(action=\"ignore\", category=FutureWarning)\n",
        "run_train()"
      ],
      "execution_count": null,
      "outputs": []
    }
  ]
}