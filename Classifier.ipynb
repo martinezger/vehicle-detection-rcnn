{
 "cells": [
  {
   "cell_type": "code",
   "execution_count": 1,
   "id": "44a5e7ad",
   "metadata": {},
   "outputs": [],
   "source": [
    "import os\n",
    "\n",
    "def generate_negative_description_file(file_path, output_file):\n",
    "    \n",
    "    with open(output_file, 'w') as f:\n",
    "        for filename in os.listdir(file_path):\n",
    "            f.write(f\"{filename}\\n\")"
   ]
  },
  {
   "cell_type": "code",
   "execution_count": 2,
   "id": "d5aee718-bfbf-4fca-8330-ba1e5c86cce0",
   "metadata": {},
   "outputs": [],
   "source": []
  },
  {
   "cell_type": "code",
   "execution_count": null,
   "id": "677a6bc7-4b0d-4dbb-9e99-cc26dceb1447",
   "metadata": {},
   "outputs": [],
   "source": []
  }
 ],
 "metadata": {
  "kernelspec": {
   "display_name": "Python 3",
   "language": "python",
   "name": "python3"
  },
  "language_info": {
   "codemirror_mode": {
    "name": "ipython",
    "version": 3
   },
   "file_extension": ".py",
   "mimetype": "text/x-python",
   "name": "python",
   "nbconvert_exporter": "python",
   "pygments_lexer": "ipython3",
   "version": "3.6.13"
  }
 },
 "nbformat": 4,
 "nbformat_minor": 5
}
