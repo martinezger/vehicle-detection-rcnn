{
 "cells": [
  {
   "cell_type": "code",
   "execution_count": 18,
   "id": "44a5e7ad",
   "metadata": {},
   "outputs": [
    {
     "name": "stdout",
     "output_type": "stream",
     "text": [
      "total files scanned: 45  in /Users/germanmartinez/curso-ml/crops/neg_extended now are save in ./neg.txt\n"
     ]
    }
   ],
   "source": [
    "## Generate negative or background examples\n",
    "import os\n",
    "\n",
    "def generate_negative_description_file(input_file_path, output_file_path):\n",
    "    \n",
    "    with open(output_file_path, 'w') as f:\n",
    "        i = 1\n",
    "        for filename in os.listdir(input_file_path):\n",
    "            f.write(f\"{file_path}/{filename}\\n\")\n",
    "            i +=1\n",
    "    print(f\"total files scanned: {i}  in {input_file_path} now are save in {output_file_path}\")\n",
    "            \n",
    "file_path = \"/Users/germanmartinez/curso-ml/crops/neg_extended\"\n",
    "            \n",
    "generate_negative_description_file(file_path, \"./neg.txt\")"
   ]
  },
  {
   "cell_type": "code",
   "execution_count": 6,
   "id": "43bf28a1-e03f-4a10-b8de-a232cffdec87",
   "metadata": {},
   "outputs": [],
   "source": [
    "# normalize all pictures to a fix size  X y X\n",
    "# Output folder must exist.\n",
    "\n",
    "from PIL import Image\n",
    "import os\n",
    "\n",
    "def normalize_pictures_by(x, input_file_path, output_file_path):\n",
    "    for filename in os.listdir(input_file_path):\n",
    "        img = Image.open(f\"{input_file_path}/{filename}\")\n",
    "        img = img.resize((x, x), Image.ANTIALIAS)\n",
    "        img.save(f\"{output_file_path}/{filename}\")\n",
    "\n",
    "input_filepath = \"/Users/germanmartinez/curso-ml/crops/resized_positive\"\n",
    "output_filepath = \"/Users/germanmartinez/curso-ml/crops/pos\"\n",
    "\n",
    "normalize_pictures_by(60, input_filepath, output_filepath)"
   ]
  },
  {
   "cell_type": "code",
   "execution_count": 19,
   "id": "9f352077-3d0c-4c1a-a814-0c6cc0fb3fb2",
   "metadata": {},
   "outputs": [],
   "source": [
    "# Create opencv data.info file need it for opencev_createsample.\n",
    "\n",
    "from PIL import Image\n",
    "import os\n",
    "\n",
    "def create_info_dat(x, input_file_path, output_file_path):\n",
    "    with open(output_file_path, 'w') as f:\n",
    "        for filename in os.listdir(input_file_path):\n",
    "            f.write(f\"{input_file_path}/{filename} 1 0 0 {x} {x}\\n\")\n",
    "        \n",
    "    \n",
    "input_filepath = \"/Users/germanmartinez/curso-ml/crops/post_extended\"\n",
    "output_filepath = \"/Users/germanmartinez/curso-ml/crops/info.dat\"\n",
    "\n",
    "create_info_dat(60, input_filepath, output_filepath)\n"
   ]
  },
  {
   "cell_type": "code",
   "execution_count": 12,
   "id": "7ad1ef8b-1766-4c1b-b6f4-d393a8530404",
   "metadata": {},
   "outputs": [],
   "source": [
    "# gray scale pictures\n",
    "import os\n",
    "import cv2\n",
    "def gray_scale_picture(input_file_path, output_file_path):\n",
    "    for filename in os.listdir(input_file_path):\n",
    "        try:\n",
    "            img = cv2.imread(f\"{input_file_path}/{filename}\",cv2.IMREAD_GRAYSCALE)\n",
    "            cv2.imwrite(f\"{output_file_path}/{filename}\", img)\n",
    "        except Exception:\n",
    "            continue\n",
    "input_filepath = \"/Users/germanmartinez/curso-ml/crops/neg_sample\"\n",
    "output_filepath = \"/Users/germanmartinez/curso-ml/crops/neg_sample_1\"\n",
    "\n",
    "gray_scale_picture(input_filepath, output_filepath)"
   ]
  },
  {
   "cell_type": "code",
   "execution_count": null,
   "id": "bb276a7b-e055-4299-95b5-833ff2c7d1ff",
   "metadata": {},
   "outputs": [],
   "source": [
    "opencv_createsamples -info info.dat -num 500 -w 60 -h 60 -vec info.vec\n",
    "opencv_traincascade -data data -vec info.vec -bg neg.txt -numPos 1000 -NumNeg 1000 -numStages 5 -w 60 -h 60 --numThreads 10"
   ]
  }
 ],
 "metadata": {
  "kernelspec": {
   "display_name": "Python 3",
   "language": "python",
   "name": "python3"
  },
  "language_info": {
   "codemirror_mode": {
    "name": "ipython",
    "version": 3
   },
   "file_extension": ".py",
   "mimetype": "text/x-python",
   "name": "python",
   "nbconvert_exporter": "python",
   "pygments_lexer": "ipython3",
   "version": "3.6.13"
  }
 },
 "nbformat": 4,
 "nbformat_minor": 5
}
